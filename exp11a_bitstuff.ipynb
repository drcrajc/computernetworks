{
  "nbformat": 4,
  "nbformat_minor": 0,
  "metadata": {
    "colab": {
      "provenance": [],
      "authorship_tag": "ABX9TyObdJczaCroJQem+1AvCs2X",
      "include_colab_link": true
    },
    "kernelspec": {
      "name": "python3",
      "display_name": "Python 3"
    },
    "language_info": {
      "name": "python"
    }
  },
  "cells": [
    {
      "cell_type": "markdown",
      "metadata": {
        "id": "view-in-github",
        "colab_type": "text"
      },
      "source": [
        "<a href=\"https://colab.research.google.com/github/drcrajc/computernetworks/blob/main/exp11a_bitstuff.ipynb\" target=\"_parent\"><img src=\"https://colab.research.google.com/assets/colab-badge.svg\" alt=\"Open In Colab\"/></a>"
      ]
    },
    {
      "cell_type": "code",
      "execution_count": 7,
      "metadata": {
        "colab": {
          "base_uri": "https://localhost:8080/"
        },
        "id": "BqOwuUIb_9BV",
        "outputId": "8f368f28-7195-4764-e25e-0680a7862d6d"
      },
      "outputs": [
        {
          "output_type": "stream",
          "name": "stdout",
          "text": [
            "Original: 111111001111111101111110\n",
            "Stuffed: 111110100111110111011111010\n",
            "Destuffed: 111111001111111101111110\n"
          ]
        }
      ],
      "source": [
        "import re\n",
        "\n",
        "def bit_stuff(bits):\n",
        "    # Add '0' after 5 consecutive '1's\n",
        "    # Changed replacement string from r'\\10' to r'\\g<1>0'\n",
        "    # to correctly insert '0' after the captured group\n",
        "    return re.sub(r'(1{5})', r'\\g<1>0', bits)\n",
        "\n",
        "\n",
        "def bit_destuff(stuffed):\n",
        "    # Remove stuffed '0's\n",
        "    return re.sub(r'(1{5})0', r'\\1', stuffed)\n",
        "\n",
        "# Example usage\n",
        "input_bits = \"111111001111111101111110\"\n",
        "print(f\"Original: {input_bits}\")\n",
        "\n",
        "stuffed = bit_stuff(input_bits)\n",
        "print(f\"Stuffed: {stuffed}\")  # Output\n",
        "\n",
        "destuffed = bit_destuff(stuffed)\n",
        "print(f\"Destuffed: {destuffed}\")  # Output"
      ]
    }
  ]
}